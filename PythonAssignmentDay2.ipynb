{
  "nbformat": 4,
  "nbformat_minor": 0,
  "metadata": {
    "colab": {
      "name": "Untitled2.ipynb",
      "provenance": [],
      "authorship_tag": "ABX9TyPCmaw1YinY6tMlL7G3v/Yn",
      "include_colab_link": true
    },
    "kernelspec": {
      "name": "python3",
      "display_name": "Python 3"
    },
    "language_info": {
      "name": "python"
    }
  },
  "cells": [
    {
      "cell_type": "markdown",
      "metadata": {
        "id": "view-in-github",
        "colab_type": "text"
      },
      "source": [
        "<a href=\"https://colab.research.google.com/github/aayushichaudhari/Complete-Python-3-Bootcamp/blob/master/PythonAssignmentDay2.ipynb\" target=\"_parent\"><img src=\"https://colab.research.google.com/assets/colab-badge.svg\" alt=\"Open In Colab\"/></a>"
      ]
    },
    {
      "cell_type": "code",
      "metadata": {
        "id": "pT56i7tLJ-PO"
      },
      "source": [
        "list_of_ClothesBrands = [\"Levis\",\"Buffalo\",\"H&M\",\"Reebook\",\"Nike\"]\n",
        "list_of_FootwareBrands = [\"Bata\",\"Sparks\",\"Reebook\",\"Addidas\",\"Levis\",\"Nike\"]"
      ],
      "execution_count": 1,
      "outputs": []
    },
    {
      "cell_type": "code",
      "metadata": {
        "colab": {
          "base_uri": "https://localhost:8080/"
        },
        "id": "E9j2xUg6KAES",
        "outputId": "689a531f-ef76-4d90-db9d-074317183b0e"
      },
      "source": [
        "list_of_ClothesBrands"
      ],
      "execution_count": 4,
      "outputs": [
        {
          "output_type": "execute_result",
          "data": {
            "text/plain": [
              "['Levis', 'Buffalo', 'H&M', 'Reebook', 'Nike']"
            ]
          },
          "metadata": {
            "tags": []
          },
          "execution_count": 4
        }
      ]
    },
    {
      "cell_type": "code",
      "metadata": {
        "colab": {
          "base_uri": "https://localhost:8080/"
        },
        "id": "vAecFZyuLK_7",
        "outputId": "f8ba0a1d-75f3-4547-8e53-5ed258c6fa65"
      },
      "source": [
        "list_of_FootwareBrands"
      ],
      "execution_count": 5,
      "outputs": [
        {
          "output_type": "execute_result",
          "data": {
            "text/plain": [
              "['Bata', 'Sparks', 'Reebook', 'Addidas', 'Levis', 'Nike']"
            ]
          },
          "metadata": {
            "tags": []
          },
          "execution_count": 5
        }
      ]
    },
    {
      "cell_type": "code",
      "metadata": {
        "colab": {
          "base_uri": "https://localhost:8080/"
        },
        "id": "0WCXUtF1KFdh",
        "outputId": "3ef5d8e5-4aac-4f7d-fb40-eb6ea2ef08e8"
      },
      "source": [
        "list_of_Overlapping = [value for value in list_of_ClothesBrands if value in list_of_FootwareBrands] \n",
        "list_of_Overlapping"
      ],
      "execution_count": 6,
      "outputs": [
        {
          "output_type": "execute_result",
          "data": {
            "text/plain": [
              "['Levis', 'Reebook', 'Nike']"
            ]
          },
          "metadata": {
            "tags": []
          },
          "execution_count": 6
        }
      ]
    },
    {
      "cell_type": "code",
      "metadata": {
        "colab": {
          "base_uri": "https://localhost:8080/"
        },
        "id": "da5-GxRfKKL2",
        "outputId": "fad7f0d9-a76d-4c19-85e5-07b5557b93ea"
      },
      "source": [
        "Start = 20\n",
        "End = 40\n",
        "for num in range(Start, End):\n",
        "  if num % 2 == 0:\n",
        "        print(num, end = \" \")"
      ],
      "execution_count": 10,
      "outputs": [
        {
          "output_type": "stream",
          "text": [
            "20 22 24 26 28 30 32 34 36 38 "
          ],
          "name": "stdout"
        }
      ]
    }
  ]
}